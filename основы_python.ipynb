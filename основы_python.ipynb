{
  "cells": [
    {
      "attachments": {},
      "cell_type": "markdown",
      "metadata": {
        "id": "M-DGa20PaHnu"
      },
      "source": [
        "#Задача 1\n",
        "Написать функцию на вход которой подается строка, состоящая из латинских букв.\n",
        "Функция должна вернуть количество гласных букв (a, e, i, o, u) в этой строке. Написать тесты для кода"
      ]
    },
    {
      "cell_type": "code",
      "execution_count": 3,
      "metadata": {
        "id": "XvX8X_JJ6PCb"
      },
      "outputs": [
        {
          "name": "stdout",
          "output_type": "stream",
          "text": [
            "2\n"
          ]
        }
      ],
      "source": [
        "import unittest\n",
        "\n",
        "def count_vowels_letters(string):\n",
        "    if type(string) is not str:\n",
        "        return 'Type Error'\n",
        "    string = string.lower()\n",
        "    vowels_letters = ['e', 'u', 'i', 'o', 'a']\n",
        "    count = 0\n",
        "    for i in range(len(string)):\n",
        "        if string[i] in vowels_letters:\n",
        "            count += 1\n",
        "    return count\n",
        "\n",
        "string = input('Введите строку: ')\n",
        "print(count_vowels_letters(string))\n",
        "\n",
        "import unittest\n",
        "\n",
        "def count_vowels_letters(string):\n",
        "    if type(string) is not str:\n",
        "        return 'Type Error'\n",
        "    string = string.lower()\n",
        "    vowels_letters = ['e', 'u', 'i', 'o', 'a']\n",
        "    count = 0\n",
        "    for i in range(len(string)):\n",
        "        if string[i] in vowels_letters:\n",
        "            count += 1\n",
        "    return count\n",
        "\n",
        "string = input('Введите строку: ')\n",
        "print(count_vowels_letters(string))\n",
        "\n",
        "class TestCountVowelsLetters(unittest.TestCase):\n",
        "   \n",
        "    def test_string(self):\n",
        "        self.assertEqual(count_vowels_letters('aeuoi'), 5)\n",
        "        self.assertEqual(count_vowels_letters('qwrtpsdfg'), 0)\n",
        "        self.assertEqual(count_vowels_letters(''), 0)\n",
        "        self.assertEqual(count_vowels_letters('a'), 1)\n",
        "\n",
        "    def test_wrong_type(self):\n",
        "        self.assertEqual(count_vowels_letters(), 'Type Error')\n",
        "        self.assertEqual(count_vowels_letters(5), 'Type Error')\n",
        "        self.assertEqual(count_vowels_letters(True), 'Type Error')\n",
        "        self.assertEqual(count_vowels_letters(['a', 'b']), 'Type Error')\n",
        "\n",
        "    if __name__ == '__main__':\n",
        "        unittest.main()\n"
      ]
    },
    {
      "attachments": {},
      "cell_type": "markdown",
      "metadata": {
        "id": "t2ClV_Y0bbr6"
      },
      "source": [
        "# Задача 2\n",
        "Написать функцию на вход, которой подается строка. Функция должна вернуть true, если\n",
        "каждый символ в строке встречается только 1 раз, иначе должна вернуть false. Написать тесты для кода"
      ]
    },
    {
      "cell_type": "code",
      "execution_count": 6,
      "metadata": {
        "id": "FppbECao6VIz"
      },
      "outputs": [
        {
          "name": "stdout",
          "output_type": "stream",
          "text": [
            "True\n"
          ]
        }
      ],
      "source": [
        "def dictionary(str):\n",
        "    dicti = dict()\n",
        "    f1 = True\n",
        "    for i in range(len(str)):\n",
        "        if str[i] in dicti.keys():\n",
        "            f1 = False\n",
        "            break\n",
        "        else:\n",
        "            dicti[str[i]] = 1\n",
        "    \n",
        "    return f1\n",
        "\n",
        "str = 'asdfghqer'\n",
        "print(dictionary(str))"
      ]
    },
    {
      "attachments": {},
      "cell_type": "markdown",
      "metadata": {
        "id": "udRiIK1cdt6E"
      },
      "source": [
        "# Задача 3\n",
        "Написать функцию, которая принимает положительное число и возвращает количество\n",
        "бит равных 1 в этом числе. Написать тесты для кода"
      ]
    },
    {
      "cell_type": "code",
      "execution_count": 23,
      "metadata": {
        "id": "6tkfDJRz6dp_"
      },
      "outputs": [
        {
          "name": "stdout",
          "output_type": "stream",
          "text": [
            "2\n"
          ]
        }
      ],
      "source": [
        "import unittest\n",
        "\n",
        "def count_set_bits(num):\n",
        "    count = 0\n",
        "    while num:\n",
        "        count += num & 1\n",
        "        num >>= 1\n",
        "    return count\n",
        "\n",
        "num = 6\n",
        "print(count_set_bits(num))\n",
        "\n",
        "class TestCountSetBits(unittest.TestCase):\n",
        "\n",
        "    def test_count_set_bits(self):\n",
        "        self.assertEqual(count_set_bits(10), 2)\n",
        "        self.assertEqual(count_set_bits(7), 3)\n",
        "        self.assertEqual(count_set_bits(15), 4)\n",
        "        self.assertEqual(count_set_bits(255), 8)\n",
        "\n",
        "if __name__ == '__main__':\n",
        "    unittest.main()"
      ]
    },
    {
      "attachments": {},
      "cell_type": "markdown",
      "metadata": {
        "id": "26dDUz-Ae17N"
      },
      "source": [
        "# Задача 4\n",
        "Написать функцию, которая принимает положительное число. Функция должна вернуть то,\n",
        "сколько раз необходимо перемножать цифры числа или результат перемножения, чтобы\n",
        "получилось число состоящее из одной цифры.\n",
        "Например, для входного числа:\n",
        "· 39 функция должна вернуть 3, так как 3*9=27 => 2*7=14 => 1*4=4\n",
        "· 4 функция должна вернуть 0, так как число уже состоит из одной цифры\n",
        "· 999 функция должна вернуть 4, так как 9*9*9=729 => 7*2*9=126 => 1*2*6=12 =>\n",
        "1*2=2. Написать тесты для кода"
      ]
    },
    {
      "cell_type": "code",
      "execution_count": 4,
      "metadata": {
        "id": "BH1A_Mgi6i4G"
      },
      "outputs": [
        {
          "name": "stdout",
          "output_type": "stream",
          "text": [
            "4\n"
          ]
        }
      ],
      "source": [
        "def count_multiplications_to_units(num):\n",
        "    count_multiplications = 0\n",
        "    f1 = True\n",
        "    new_num = 1\n",
        "\n",
        "    while f1:\n",
        "        while num > 0:\n",
        "            x = num % 10 \n",
        "            num //= 10\n",
        "            new_num *= x\n",
        "\n",
        "        count_multiplications += 1\n",
        "        if new_num < 10:\n",
        "            f1 = False\n",
        "        else:\n",
        "            num = new_num\n",
        "            new_num = 1\n",
        "\n",
        "    return count_multiplications\n",
        "\n",
        "num = 999\n",
        "if num < 10:\n",
        "    print(0)\n",
        "else:\n",
        "    print(count_multiplications_to_units(num))"
      ]
    },
    {
      "attachments": {},
      "cell_type": "markdown",
      "metadata": {
        "id": "0nS-kIa8g8vd"
      },
      "source": [
        "# Задача 5\n",
        "Написать функцию, которая принимает два целочисленных вектора одинаковой длины и\n",
        "возвращает среднеквадратическое отклонение двух векторов. Написать тесты для кода"
      ]
    },
    {
      "cell_type": "code",
      "execution_count": 6,
      "metadata": {
        "id": "8iphx4LM6xbx"
      },
      "outputs": [
        {
          "name": "stdout",
          "output_type": "stream",
          "text": [
            "5.477225575051661\n"
          ]
        }
      ],
      "source": [
        "import numpy as np\n",
        "\n",
        "vector1 = np.arange(1, 10)\n",
        "vector2 = np.arange(10, 20)\n",
        "\n",
        "vector_result = np.concatenate([vector1, vector2])\n",
        "print(np.std(vector_result))"
      ]
    },
    {
      "attachments": {},
      "cell_type": "markdown",
      "metadata": {
        "id": "vpIPKL439zkw"
      },
      "source": [
        "# Задача 6\n",
        "Написать функцию, принимающая целое положительное число. Функция должна вернуть\n",
        "строку вида “(n1**p1)(n2**p2)…(nk**pk)” представляющая разложение числа на простые\n",
        "множители (если pi == 1, то выводить только ni).\n",
        "Например, для числа 86240 функция должна вернуть “(2**5)(5)(7**2)(11)”. Написать тесты для кода"
      ]
    },
    {
      "cell_type": "code",
      "execution_count": 23,
      "metadata": {
        "id": "pFebmcZk94Jw"
      },
      "outputs": [
        {
          "name": "stdout",
          "output_type": "stream",
          "text": [
            "(3**3)(37)\n"
          ]
        }
      ],
      "source": [
        "def prime_factors(n):\n",
        "    i = 2\n",
        "    factors = []\n",
        "    while i * i <= n:\n",
        "        if n % i:\n",
        "            i += 1\n",
        "        else:\n",
        "            n //= i\n",
        "            factors.append(i)\n",
        "    if n > 1:\n",
        "        factors.append(n)\n",
        "\n",
        "    unique_factors = sorted(set(factors))\n",
        "    result = \"\"\n",
        "    for factor in unique_factors:\n",
        "        power = factors.count(factor)\n",
        "        if power == 1:\n",
        "            result += f\"({factor})\"\n",
        "        else:\n",
        "            result += f\"({factor}**{power})\"\n",
        "    \n",
        "    return result\n",
        "\n",
        "num = 999\n",
        "print(prime_factors(num))"
      ]
    },
    {
      "attachments": {},
      "cell_type": "markdown",
      "metadata": {
        "id": "ps2s0BudX7A2"
      },
      "source": [
        "# Задача 7\n",
        "Написать функцию, принимающая целое число n, задающее количество кубиков. Функция\n",
        "должна определить, можно ли из данного кол-ва кубиков построить пирамиду, то есть\n",
        "можно ли представить число n как 1^2+2^2+3^2+…+k^2. Если можно, то функция должна\n",
        "вернуть k, иначе строку “It is impossible”. Написать тесты для кода"
      ]
    },
    {
      "cell_type": "code",
      "execution_count": 24,
      "metadata": {
        "id": "3YPjEXxhX_YT"
      },
      "outputs": [
        {
          "name": "stdout",
          "output_type": "stream",
          "text": [
            "14\n"
          ]
        }
      ],
      "source": [
        "def build_pyramid(n):   \n",
        "    i = 1\n",
        "    while n > 0:\n",
        "        n -= i*i\n",
        "        i += 1\n",
        "    if n == 0:\n",
        "        return i - 1\n",
        "    else:\n",
        "        return 'It is impossible'\n",
        "\n",
        "num = 1015\n",
        "print(build_pyramid(num))"
      ]
    },
    {
      "attachments": {},
      "cell_type": "markdown",
      "metadata": {
        "id": "KeKgmIdAQMEJ"
      },
      "source": [
        "# Задача 8\n",
        "Функция принимает на вход положительное число и определяет является ли оно сбалансированным, т.е. сумма цифр до средних равна сумме цифр после. Средними в случае нечетного числа цифр считать одну цифру, в случае четного - две средних. Написать тесты для кода"
      ]
    },
    {
      "cell_type": "code",
      "execution_count": 25,
      "metadata": {
        "id": "gMAAqtqlQrZt"
      },
      "outputs": [
        {
          "name": "stdout",
          "output_type": "stream",
          "text": [
            "balanced\n"
          ]
        }
      ],
      "source": [
        "def sum_digit_of_number(num):\n",
        "    sum_digit = 0\n",
        "    while num > 0:\n",
        "        x = num % 10 \n",
        "        num //= 10\n",
        "        sum_digit += x\n",
        "    return sum_digit\n",
        "\n",
        "\n",
        "def is_number_balanced(n):\n",
        "    if n < 100:\n",
        "        return 'number is wrong'\n",
        "    \n",
        "    n = str(n)\n",
        "    start = n[:len(n)//2 - 1 + len(n) % 2]\n",
        "    end = n[len(n)//2 + 1:]\n",
        "\n",
        "    initial_part = int(start)\n",
        "    end_part = int(end)\n",
        "\n",
        "    if sum_digit_of_number(initial_part) == sum_digit_of_number(end_part):\n",
        "        return 'balanced'\n",
        "    return 'not balanced'\n",
        "    \n",
        "num = 142150\n",
        "print(is_number_balanced(num))"
      ]
    }
  ],
  "metadata": {
    "colab": {
      "provenance": []
    },
    "kernelspec": {
      "display_name": "Python 3",
      "name": "python3"
    },
    "language_info": {
      "codemirror_mode": {
        "name": "ipython",
        "version": 3
      },
      "file_extension": ".py",
      "mimetype": "text/x-python",
      "name": "python",
      "nbconvert_exporter": "python",
      "pygments_lexer": "ipython3",
      "version": "3.9.13"
    }
  },
  "nbformat": 4,
  "nbformat_minor": 0
}
