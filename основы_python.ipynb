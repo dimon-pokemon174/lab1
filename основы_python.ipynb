{
  "cells": [
    {
      "attachments": {},
      "cell_type": "markdown",
      "metadata": {
        "id": "M-DGa20PaHnu"
      },
      "source": [
        "#Задача 1\n",
        "Написать функцию на вход которой подается строка, состоящая из латинских букв.\n",
        "Функция должна вернуть количество гласных букв (a, e, i, o, u) в этой строке. Написать тесты для кода"
      ]
    },
    {
      "cell_type": "code",
      "execution_count": 6,
      "metadata": {
        "id": "XvX8X_JJ6PCb"
      },
      "outputs": [],
      "source": [
        "def count_vowels_letters(string):\n",
        "    if type(string) is not str:\n",
        "        return 'Type Error'\n",
        "    string = string.lower()\n",
        "    vowels_letters = ['e', 'u', 'i', 'o', 'a']\n",
        "    count = 0\n",
        "    for i in range(len(string)):\n",
        "        if string[i] in vowels_letters:\n",
        "            count += 1\n",
        "    return count"
      ]
    },
    {
      "cell_type": "code",
      "execution_count": 7,
      "metadata": {},
      "outputs": [
        {
          "name": "stderr",
          "output_type": "stream",
          "text": [
            "test_count_vowels_letters (__main__.TestCountVowelsLetters) ... ok\n",
            "test_wrong_type (__main__.TestCountVowelsLetters) ... ok\n",
            "\n",
            "----------------------------------------------------------------------\n",
            "Ran 2 tests in 0.007s\n",
            "\n",
            "OK\n"
          ]
        },
        {
          "data": {
            "text/plain": [
              "<unittest.main.TestProgram at 0x8b28b1fd0>"
            ]
          },
          "execution_count": 7,
          "metadata": {},
          "output_type": "execute_result"
        }
      ],
      "source": [
        "import unittest\n",
        "\n",
        "class TestCountVowelsLetters(unittest.TestCase):\n",
        "   \n",
        "    def test_count_vowels_letters(self):\n",
        "        self.assertEqual(count_vowels_letters('aeuoi'), 5)\n",
        "        self.assertEqual(count_vowels_letters('qwrtpsdfg'), 0)\n",
        "        self.assertEqual(count_vowels_letters(''), 0)\n",
        "        self.assertEqual(count_vowels_letters('a'), 1)\n",
        "\n",
        "    def test_wrong_type(self):\n",
        "        self.assertEqual(count_vowels_letters(5), 'Type Error')\n",
        "        self.assertEqual(count_vowels_letters(True), 'Type Error')\n",
        "        self.assertEqual(count_vowels_letters(['a', 'b']), 'Type Error')\n",
        "\n",
        "unittest.main(argv=[''], verbosity=2, exit=False)"
      ]
    },
    {
      "attachments": {},
      "cell_type": "markdown",
      "metadata": {
        "id": "t2ClV_Y0bbr6"
      },
      "source": [
        "# Задача 2\n",
        "Написать функцию на вход, которой подается строка. Функция должна вернуть true, если\n",
        "каждый символ в строке встречается только 1 раз, иначе должна вернуть false. Написать тесты для кода"
      ]
    },
    {
      "cell_type": "code",
      "execution_count": 8,
      "metadata": {
        "id": "FppbECao6VIz"
      },
      "outputs": [],
      "source": [
        "import unittest\n",
        "\n",
        "def dictionary(string):\n",
        "    if type(string) is not str:\n",
        "        return 'Type Error'\n",
        "    dicti = dict()\n",
        "    f1 = True\n",
        "    for i in range(len(string)):\n",
        "        if string[i] in dicti.keys():\n",
        "            f1 = False\n",
        "            break\n",
        "        else:\n",
        "            dicti[string[i]] = 1\n",
        "    \n",
        "    return f1"
      ]
    },
    {
      "cell_type": "code",
      "execution_count": 10,
      "metadata": {},
      "outputs": [
        {
          "name": "stderr",
          "output_type": "stream",
          "text": [
            "test_string (__main__.TestCountVowelsLetters) ... ok\n",
            "test_wrong_type (__main__.TestCountVowelsLetters) ... ok\n",
            "\n",
            "----------------------------------------------------------------------\n",
            "Ran 2 tests in 0.008s\n",
            "\n",
            "OK\n"
          ]
        },
        {
          "data": {
            "text/plain": [
              "<unittest.main.TestProgram at 0x8b2b006a0>"
            ]
          },
          "execution_count": 10,
          "metadata": {},
          "output_type": "execute_result"
        }
      ],
      "source": [
        "class TestCountVowelsLetters(unittest.TestCase):\n",
        "   \n",
        "    def test_string(self):\n",
        "        self.assertEqual(dictionary('aeuoi'), True)\n",
        "        self.assertEqual(dictionary('qwrtpsdfg'), True)\n",
        "        self.assertEqual(dictionary(''), True)\n",
        "        self.assertEqual(dictionary('aa'), False)\n",
        "\n",
        "    def test_wrong_type(self):\n",
        "        self.assertEqual(dictionary(5), 'Type Error')\n",
        "        self.assertEqual(dictionary(True), 'Type Error')\n",
        "        self.assertEqual(dictionary(['a', 'b']), 'Type Error')\n",
        "\n",
        "unittest.main(argv=[''], verbosity=2, exit=False)"
      ]
    },
    {
      "attachments": {},
      "cell_type": "markdown",
      "metadata": {
        "id": "udRiIK1cdt6E"
      },
      "source": [
        "# Задача 3\n",
        "Написать функцию, которая принимает положительное число и возвращает количество\n",
        "бит равных 1 в этом числе. Написать тесты для кода"
      ]
    },
    {
      "cell_type": "code",
      "execution_count": 11,
      "metadata": {
        "id": "6tkfDJRz6dp_"
      },
      "outputs": [],
      "source": [
        "def count_set_bits(num):\n",
        "    if type(num) is not int:\n",
        "        return 'Type Error'\n",
        "    count = 0\n",
        "    while num:\n",
        "        count += num & 1\n",
        "        num >>= 1\n",
        "    return count"
      ]
    },
    {
      "cell_type": "code",
      "execution_count": 13,
      "metadata": {},
      "outputs": [
        {
          "name": "stderr",
          "output_type": "stream",
          "text": [
            "test_count_set_bits (__main__.TestCountSetBits) ... ok\n",
            "test_wrong_type (__main__.TestCountSetBits) ... ok\n",
            "test_string (__main__.TestCountVowelsLetters) ... ok\n",
            "test_wrong_type (__main__.TestCountVowelsLetters) ... ok\n",
            "\n",
            "----------------------------------------------------------------------\n",
            "Ran 4 tests in 0.015s\n",
            "\n",
            "OK\n"
          ]
        },
        {
          "data": {
            "text/plain": [
              "<unittest.main.TestProgram at 0x8b275e1f0>"
            ]
          },
          "execution_count": 13,
          "metadata": {},
          "output_type": "execute_result"
        }
      ],
      "source": [
        "import unittest\n",
        "\n",
        "class TestCountSetBits(unittest.TestCase):\n",
        "\n",
        "    def test_count_set_bits(self):\n",
        "        self.assertEqual(count_set_bits(10), 2)\n",
        "        self.assertEqual(count_set_bits(7), 3)\n",
        "        self.assertEqual(count_set_bits(15), 4)\n",
        "        self.assertEqual(count_set_bits(255), 8)\n",
        "\n",
        "    def test_wrong_type(self):\n",
        "        self.assertEqual(count_set_bits('asfdsg'), 'Type Error')\n",
        "        self.assertEqual(count_set_bits(False), 'Type Error')\n",
        "        self.assertEqual(count_set_bits(['a', 'b']), 'Type Error')\n",
        "        self.assertEqual(count_set_bits([1, 23]), 'Type Error')\n",
        "\n",
        "unittest.main(argv=[''], verbosity=2, exit=False)"
      ]
    },
    {
      "attachments": {},
      "cell_type": "markdown",
      "metadata": {
        "id": "26dDUz-Ae17N"
      },
      "source": [
        "# Задача 4\n",
        "Написать функцию, которая принимает положительное число. Функция должна вернуть то,\n",
        "сколько раз необходимо перемножать цифры числа или результат перемножения, чтобы\n",
        "получилось число состоящее из одной цифры.\n",
        "Например, для входного числа:\n",
        "· 39 функция должна вернуть 3, так как 3*9=27 => 2*7=14 => 1*4=4\n",
        "· 4 функция должна вернуть 0, так как число уже состоит из одной цифры\n",
        "· 999 функция должна вернуть 4, так как 9*9*9=729 => 7*2*9=126 => 1*2*6=12 =>\n",
        "1*2=2. Написать тесты для кода"
      ]
    },
    {
      "cell_type": "code",
      "execution_count": 18,
      "metadata": {
        "id": "BH1A_Mgi6i4G"
      },
      "outputs": [],
      "source": [
        "def count_multiplications_to_units(num):\n",
        "    if type(num) is not int:\n",
        "        return 'Type Error'\n",
        "    if num < 0:\n",
        "        return 'Number must be positive'\n",
        "    if num < 10 and num > -1:\n",
        "        return 0\n",
        "    \n",
        "    count_multiplications = 0\n",
        "    f1 = True\n",
        "    new_num = 1\n",
        "\n",
        "    while f1:\n",
        "        while num > 0:\n",
        "            x = num % 10 \n",
        "            num //= 10\n",
        "            new_num *= x\n",
        "\n",
        "        count_multiplications += 1\n",
        "        if new_num < 10:\n",
        "            f1 = False\n",
        "        else:\n",
        "            num = new_num\n",
        "            new_num = 1\n",
        "\n",
        "    return count_multiplications"
      ]
    },
    {
      "cell_type": "code",
      "execution_count": 19,
      "metadata": {},
      "outputs": [
        {
          "name": "stderr",
          "output_type": "stream",
          "text": [
            "test_count_multiplications (__main__.TestCountMultiplications) ... ok\n",
            "test_wrong_type (__main__.TestCountMultiplications) ... ok\n",
            "test_count_set_bits (__main__.TestCountSetBits) ... ok\n",
            "test_wrong_type (__main__.TestCountSetBits) ... ok\n",
            "test_string (__main__.TestCountVowelsLetters) ... ok\n",
            "test_wrong_type (__main__.TestCountVowelsLetters) ... ok\n",
            "\n",
            "----------------------------------------------------------------------\n",
            "Ran 6 tests in 0.026s\n",
            "\n",
            "OK\n"
          ]
        },
        {
          "data": {
            "text/plain": [
              "<unittest.main.TestProgram at 0x8af10b130>"
            ]
          },
          "execution_count": 19,
          "metadata": {},
          "output_type": "execute_result"
        }
      ],
      "source": [
        "import unittest\n",
        "\n",
        "class TestCountMultiplications(unittest.TestCase):\n",
        "    def test_count_multiplications(self):\n",
        "        self.assertEqual(count_multiplications_to_units(-10), 'Number must be positive')\n",
        "        self.assertEqual(count_multiplications_to_units(30), 1)\n",
        "        self.assertEqual(count_multiplications_to_units(3), 0)\n",
        "        self.assertEqual(count_multiplications_to_units(39), 3)\n",
        "\n",
        "    def test_wrong_type(self):\n",
        "        self.assertEqual(count_multiplications_to_units('asf'), 'Type Error')\n",
        "        self.assertEqual(count_multiplications_to_units(True), 'Type Error')\n",
        "        self.assertEqual(count_multiplications_to_units(['a', 5, False]), 'Type Error')\n",
        "\n",
        "unittest.main(argv=[''], verbosity=2, exit=False)"
      ]
    },
    {
      "attachments": {},
      "cell_type": "markdown",
      "metadata": {
        "id": "0nS-kIa8g8vd"
      },
      "source": [
        "# Задача 5\n",
        "Написать функцию, которая принимает два целочисленных вектора одинаковой длины и\n",
        "возвращает среднеквадратическое отклонение двух векторов. Написать тесты для кода"
      ]
    },
    {
      "cell_type": "code",
      "execution_count": 33,
      "metadata": {
        "id": "8iphx4LM6xbx"
      },
      "outputs": [],
      "source": [
        "import numpy\n",
        "\n",
        "def concatenate(vector1, vector2):\n",
        "    if type(vector1) is not numpy.ndarray or type(vector1) is not numpy.ndarray:\n",
        "        return 'Type Error'\n",
        "    if len(vector1) != len(vector2):\n",
        "        return 'Vectors of different sizes'\n",
        "    vector_result = numpy.concatenate([vector1, vector2])\n",
        "    return numpy.std(vector_result)"
      ]
    },
    {
      "cell_type": "code",
      "execution_count": 36,
      "metadata": {},
      "outputs": [
        {
          "name": "stderr",
          "output_type": "stream",
          "text": [
            "test_std (__main__.StdCheckTestCase) ... ok\n",
            "test_wrong_type (__main__.StdCheckTestCase) ... ok\n",
            "test_count_multiplications (__main__.TestCountMultiplications) ... ok\n",
            "test_wrong_type (__main__.TestCountMultiplications) ... ok\n",
            "test_count_set_bits (__main__.TestCountSetBits) ... ok\n",
            "test_wrong_type (__main__.TestCountSetBits) ... ok\n",
            "test_string (__main__.TestCountVowelsLetters) ... ok\n",
            "test_wrong_type (__main__.TestCountVowelsLetters) ... ok\n",
            "\n",
            "----------------------------------------------------------------------\n",
            "Ran 8 tests in 0.047s\n",
            "\n",
            "OK\n"
          ]
        },
        {
          "name": "stdout",
          "output_type": "stream",
          "text": [
            "<class 'numpy.ndarray'>\n"
          ]
        },
        {
          "data": {
            "text/plain": [
              "<unittest.main.TestProgram at 0x8b1f91df0>"
            ]
          },
          "execution_count": 36,
          "metadata": {},
          "output_type": "execute_result"
        }
      ],
      "source": [
        "import unittest\n",
        "import numpy as np\n",
        "\n",
        "class StdCheckTestCase(unittest.TestCase):\n",
        "    def test_std(self):\n",
        "        x = np.arange(10)\n",
        "        y = np.arange(10, 20)\n",
        "        z = np.arange(1, 20)\n",
        "        self.assertEqual(concatenate(x, y), 5.766281297335398)\n",
        "        self.assertEqual(concatenate(x, z), 'Vectors of different sizes')\n",
        "\n",
        "    def test_wrong_type(self):\n",
        "        self.assertEqual(concatenate('asf', 2), 'Type Error')\n",
        "        self.assertEqual(concatenate(True, None), 'Type Error')\n",
        "    \n",
        "unittest.main(argv=[''], verbosity=2, exit=False)"
      ]
    },
    {
      "attachments": {},
      "cell_type": "markdown",
      "metadata": {
        "id": "vpIPKL439zkw"
      },
      "source": [
        "# Задача 6\n",
        "Написать функцию, принимающая целое положительное число. Функция должна вернуть\n",
        "строку вида “(n1**p1)(n2**p2)…(nk**pk)” представляющая разложение числа на простые\n",
        "множители (если pi == 1, то выводить только ni).\n",
        "Например, для числа 86240 функция должна вернуть “(2**5)(5)(7**2)(11)”. Написать тесты для кода"
      ]
    },
    {
      "cell_type": "code",
      "execution_count": 39,
      "metadata": {
        "id": "pFebmcZk94Jw"
      },
      "outputs": [],
      "source": [
        "def prime_factors(n):\n",
        "    if type(n) is not int:\n",
        "        return 'Type Error'\n",
        "    i = 2\n",
        "    factors = []\n",
        "    while i * i <= n:\n",
        "        if n % i:\n",
        "            i += 1\n",
        "        else:\n",
        "            n //= i\n",
        "            factors.append(i)\n",
        "    if n > 1:\n",
        "        factors.append(n)\n",
        "\n",
        "    unique_factors = sorted(set(factors))\n",
        "    result = \"\"\n",
        "    for factor in unique_factors:\n",
        "        power = factors.count(factor)\n",
        "        if power == 1:\n",
        "            result += f\"({factor})\"\n",
        "        else:\n",
        "            result += f\"({factor}**{power})\"\n",
        "    \n",
        "    return result"
      ]
    },
    {
      "cell_type": "code",
      "execution_count": 43,
      "metadata": {},
      "outputs": [
        {
          "name": "stderr",
          "output_type": "stream",
          "text": [
            "test_std (__main__.StdCheckTestCase) ... ok\n",
            "test_wrong_type (__main__.StdCheckTestCase) ... ok\n",
            "test_count_multiplications (__main__.TestCountMultiplications) ... ok\n",
            "test_wrong_type (__main__.TestCountMultiplications) ... ok\n",
            "test_count_set_bits (__main__.TestCountSetBits) ... ok\n",
            "test_wrong_type (__main__.TestCountSetBits) ... ok\n",
            "test_string (__main__.TestCountVowelsLetters) ... ok\n",
            "test_wrong_type (__main__.TestCountVowelsLetters) ... ok\n",
            "test_prime_factors (__main__.prime_factors_testCase) ... ok\n",
            "test_wrong_type (__main__.prime_factors_testCase) ... ok\n",
            "\n",
            "----------------------------------------------------------------------\n",
            "Ran 10 tests in 0.035s\n",
            "\n",
            "OK\n"
          ]
        },
        {
          "name": "stdout",
          "output_type": "stream",
          "text": [
            "<class 'numpy.ndarray'>\n"
          ]
        },
        {
          "data": {
            "text/plain": [
              "<unittest.main.TestProgram at 0x8b272c730>"
            ]
          },
          "execution_count": 43,
          "metadata": {},
          "output_type": "execute_result"
        }
      ],
      "source": [
        "import unittest\n",
        "\n",
        "class prime_factors_testCase(unittest.TestCase):\n",
        "    def test_prime_factors(self):\n",
        "        self.assertEqual(prime_factors(999), '(3**3)(37)')\n",
        "        self.assertEqual(prime_factors(0), \"\")\n",
        "        self.assertEqual(prime_factors(2), '(2)')\n",
        "\n",
        "    def test_wrong_type(self):\n",
        "        self.assertEqual(prime_factors('asf'), 'Type Error')\n",
        "        self.assertEqual(prime_factors(True), 'Type Error')\n",
        "        self.assertEqual(prime_factors(['a', 5, False]), 'Type Error')\n",
        "    \n",
        "unittest.main(argv=[''], verbosity=2, exit=False)"
      ]
    },
    {
      "attachments": {},
      "cell_type": "markdown",
      "metadata": {
        "id": "ps2s0BudX7A2"
      },
      "source": [
        "# Задача 7\n",
        "Написать функцию, принимающая целое число n, задающее количество кубиков. Функция\n",
        "должна определить, можно ли из данного кол-ва кубиков построить пирамиду, то есть\n",
        "можно ли представить число n как 1^2+2^2+3^2+…+k^2. Если можно, то функция должна\n",
        "вернуть k, иначе строку “It is impossible”. Написать тесты для кода"
      ]
    },
    {
      "cell_type": "code",
      "execution_count": 46,
      "metadata": {
        "id": "3YPjEXxhX_YT"
      },
      "outputs": [],
      "source": [
        "def build_pyramid(n):\n",
        "    if type(n) is not int:\n",
        "        return 'Type Error'  \n",
        "    if n < 1:\n",
        "        return 'Number must be positive' \n",
        "    i = 1\n",
        "    while n > 0:\n",
        "        n -= i*i\n",
        "        i += 1\n",
        "    if n == 0:\n",
        "        return i - 1\n",
        "    else:\n",
        "        return 'It is impossible'"
      ]
    },
    {
      "cell_type": "code",
      "execution_count": 50,
      "metadata": {},
      "outputs": [
        {
          "name": "stderr",
          "output_type": "stream",
          "text": [
            "test_std (__main__.StdCheckTestCase) ... ok\n",
            "test_wrong_type (__main__.StdCheckTestCase) ... ok\n",
            "test_count_multiplications (__main__.TestCountMultiplications) ... ok\n",
            "test_wrong_type (__main__.TestCountMultiplications) ... ok\n",
            "test_count_set_bits (__main__.TestCountSetBits) ... ok\n",
            "test_wrong_type (__main__.TestCountSetBits) ... ok\n",
            "test_string (__main__.TestCountVowelsLetters) ... ok\n",
            "test_wrong_type (__main__.TestCountVowelsLetters) ... ok\n",
            "test_build_pyramid (__main__.build_pyramid_testCase) ... ok\n",
            "test_wrong_type (__main__.build_pyramid_testCase) ... ok\n",
            "test_prime_factors (__main__.prime_factors_testCase) ... ok\n",
            "test_wrong_type (__main__.prime_factors_testCase) ... ok\n",
            "\n",
            "----------------------------------------------------------------------\n",
            "Ran 12 tests in 0.045s\n",
            "\n",
            "OK\n"
          ]
        },
        {
          "name": "stdout",
          "output_type": "stream",
          "text": [
            "<class 'numpy.ndarray'>\n"
          ]
        },
        {
          "data": {
            "text/plain": [
              "<unittest.main.TestProgram at 0x8b2b0b460>"
            ]
          },
          "execution_count": 50,
          "metadata": {},
          "output_type": "execute_result"
        }
      ],
      "source": [
        "import unittest\n",
        "\n",
        "class build_pyramid_testCase(unittest.TestCase):\n",
        "    def test_build_pyramid(self):\n",
        "        self.assertEqual(build_pyramid(30), 4)\n",
        "        self.assertEqual(build_pyramid(91), 6)\n",
        "        self.assertEqual(build_pyramid(-1), 'Number must be positive')\n",
        "        self.assertEqual(build_pyramid(10), 'It is impossible')\n",
        "    \n",
        "    def test_wrong_type(self):\n",
        "        self.assertEqual(build_pyramid('asf'), 'Type Error')\n",
        "        self.assertEqual(build_pyramid(True), 'Type Error')\n",
        "        self.assertEqual(build_pyramid(['a', 5, False]), 'Type Error')\n",
        "    \n",
        "unittest.main(argv=[''], verbosity=2, exit=False)"
      ]
    },
    {
      "attachments": {},
      "cell_type": "markdown",
      "metadata": {
        "id": "KeKgmIdAQMEJ"
      },
      "source": [
        "# Задача 8\n",
        "Функция принимает на вход положительное число и определяет является ли оно сбалансированным, т.е. сумма цифр до средних равна сумме цифр после. Средними в случае нечетного числа цифр считать одну цифру, в случае четного - две средних. Написать тесты для кода"
      ]
    },
    {
      "cell_type": "code",
      "execution_count": 51,
      "metadata": {
        "id": "gMAAqtqlQrZt"
      },
      "outputs": [],
      "source": [
        "def sum_digit_of_number(num):\n",
        "    sum_digit = 0\n",
        "    while num > 0:\n",
        "        x = num % 10 \n",
        "        num //= 10\n",
        "        sum_digit += x\n",
        "    return sum_digit\n",
        "\n",
        "\n",
        "def is_number_balanced(n):\n",
        "    if type(n) is not int:\n",
        "        return 'Type Error'\n",
        "    if n < 100:\n",
        "        return 'number must be greater than 99'\n",
        "    \n",
        "    n = str(n)\n",
        "    start = n[:len(n)//2 - 1 + len(n) % 2]\n",
        "    end = n[len(n)//2 + 1:]\n",
        "\n",
        "    initial_part = int(start)\n",
        "    end_part = int(end)\n",
        "\n",
        "    if sum_digit_of_number(initial_part) == sum_digit_of_number(end_part):\n",
        "        return 'balanced'\n",
        "    return 'not balanced'"
      ]
    },
    {
      "cell_type": "code",
      "execution_count": 54,
      "metadata": {},
      "outputs": [
        {
          "name": "stderr",
          "output_type": "stream",
          "text": [
            "test_std (__main__.StdCheckTestCase) ... ok\n",
            "test_wrong_type (__main__.StdCheckTestCase) ... ok\n",
            "test_count_multiplications (__main__.TestCountMultiplications) ... ok\n",
            "test_wrong_type (__main__.TestCountMultiplications) ... ok\n",
            "test_count_set_bits (__main__.TestCountSetBits) ... ok\n",
            "test_wrong_type (__main__.TestCountSetBits) ... ok\n",
            "test_string (__main__.TestCountVowelsLetters) ... ok\n",
            "test_wrong_type (__main__.TestCountVowelsLetters) ... ok\n",
            "test_is_number_balanced (__main__.balance_number_testCase) ... ok\n",
            "test_wrong_type (__main__.balance_number_testCase) ... ok\n",
            "test_build_pyramid (__main__.build_pyramid_testCase) ... ok\n",
            "test_wrong_type (__main__.build_pyramid_testCase) ... ok\n",
            "test_prime_factors (__main__.prime_factors_testCase) ... ok\n",
            "test_wrong_type (__main__.prime_factors_testCase) ... ok\n",
            "\n",
            "----------------------------------------------------------------------\n",
            "Ran 14 tests in 0.051s\n",
            "\n",
            "OK\n"
          ]
        },
        {
          "name": "stdout",
          "output_type": "stream",
          "text": [
            "<class 'numpy.ndarray'>\n"
          ]
        },
        {
          "data": {
            "text/plain": [
              "<unittest.main.TestProgram at 0x8af10ba00>"
            ]
          },
          "execution_count": 54,
          "metadata": {},
          "output_type": "execute_result"
        }
      ],
      "source": [
        "import unittest\n",
        "\n",
        "class balance_number_testCase(unittest.TestCase):\n",
        "    def test_is_number_balanced(self):\n",
        "        self.assertEqual(is_number_balanced(123456), 'not balanced')\n",
        "        self.assertEqual(is_number_balanced(123421), 'balanced')\n",
        "        self.assertEqual(is_number_balanced(12412), 'balanced')\n",
        "        self.assertEqual(is_number_balanced(1283056), 'balanced')\n",
        "        self.assertEqual(is_number_balanced(100), 'not balanced')\n",
        "\n",
        "    def test_wrong_type(self):\n",
        "        self.assertEqual(is_number_balanced('asf'), 'Type Error')\n",
        "        self.assertEqual(is_number_balanced(True), 'Type Error')\n",
        "        self.assertEqual(is_number_balanced(['a', 5, False]), 'Type Error')\n",
        "    \n",
        "unittest.main(argv=[''], verbosity=2, exit=False)"
      ]
    }
  ],
  "metadata": {
    "colab": {
      "provenance": []
    },
    "kernelspec": {
      "display_name": "Python 3",
      "name": "python3"
    },
    "language_info": {
      "codemirror_mode": {
        "name": "ipython",
        "version": 3
      },
      "file_extension": ".py",
      "mimetype": "text/x-python",
      "name": "python",
      "nbconvert_exporter": "python",
      "pygments_lexer": "ipython3",
      "version": "3.9.13"
    }
  },
  "nbformat": 4,
  "nbformat_minor": 0
}
